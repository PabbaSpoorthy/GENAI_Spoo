{
 "cells": [
  {
   "cell_type": "code",
   "execution_count": 84,
   "id": "f4eefddb",
   "metadata": {},
   "outputs": [],
   "source": [
    "import torch\n",
    "import torch.nn as nn\n",
    "import numpy as np\n",
    "\n"
   ]
  },
  {
   "cell_type": "code",
   "execution_count": 85,
   "id": "9a4b5426",
   "metadata": {},
   "outputs": [],
   "source": [
    "# Define the Large Language Model (LLM) class\n",
    "class LLM(nn.Module):\n",
    "    def __init__(self, vocab_size, embedding_dim, hidden_dim, num_layers):\n",
    "        super(LLM, self).__init__()\n",
    "        self.embedding = nn.Embedding(vocab_size, embedding_dim)\n",
    "        self.lstm = nn.LSTM(embedding_dim, hidden_dim, num_layers, batch_first=True)\n",
    "        self.fc = nn.Linear(hidden_dim, vocab_size)\n",
    "        self.hidden_dim = hidden_dim\n",
    "        self.num_layers = num_layers\n",
    "\n",
    "    def forward(self, x, hidden):\n",
    "        embedded = self.embedding(x)\n",
    "        output, hidden = self.lstm(embedded, hidden)\n",
    "        output = self.fc(output)\n",
    "        return output, hidden\n",
    "\n",
    "    def init_hidden(self, batch_size):\n",
    "        weight = next(self.parameters()).data\n",
    "        hidden = (weight.new(self.num_layers, batch_size, self.hidden_dim).zero_(),\n",
    "                  weight.new(self.num_layers, batch_size, self.hidden_dim).zero_())\n",
    "        return hidden\n",
    "\n",
    "    "
   ]
  },
  {
   "cell_type": "code",
   "execution_count": 86,
   "id": "df5d8875",
   "metadata": {},
   "outputs": [],
   "source": [
    "# Define a function to train the LLM\n",
    "def train_llm(llm, data, optimizer, criterion, num_epochs, batch_size):\n",
    "    llm.train()\n",
    "    for epoch in range(num_epochs):\n",
    "        hidden = llm.init_hidden(batch_size)\n",
    "        for i in range(0, len(data) - batch_size, batch_size):\n",
    "            inputs = torch.tensor(data[i:i+batch_size]).unsqueeze(0)\n",
    "            targets = torch.tensor(data[i+1:i+batch_size+1])\n",
    "\n",
    "            optimizer.zero_grad()  # Clear gradients\n",
    "            output, hidden = llm(inputs, hidden)\n",
    "            loss = criterion(output.view(-1, vocab_size), targets.view(-1))\n",
    "            loss.backward(retain_graph=True)  # Specify retain_graph=True\n",
    "            optimizer.step()\n",
    "\n",
    "            # Detach hidden state tensors\n",
    "            hidden = (hidden[0].detach(), hidden[1].detach())\n",
    "\n",
    "            if (i+1) % 1000 == 0:\n",
    "                print(f'Epoch [{epoch+1}/{num_epochs}], Step [{i+1}/{len(data)}], Loss: {loss.item()}')\n",
    "\n"
   ]
  },
  {
   "cell_type": "code",
   "execution_count": null,
   "id": "dc6c98f8",
   "metadata": {},
   "outputs": [],
   "source": [
    "\n",
    "# Define some hyperparameters\n",
    "vocab_size = 10000\n",
    "embedding_dim = 256\n",
    "hidden_dim = 512\n",
    "num_layers = 2\n",
    "num_epochs = 5\n",
    "batch_size = 1  # Set batch size to 1 for inference\n",
    "\n",
    "# Generate some random text data\n",
    "data = np.random.randint(0, vocab_size, size=(10000,))\n",
    "\n",
    "# Create the LLM instance\n",
    "llm = LLM(vocab_size, embedding_dim, hidden_dim, num_layers)\n",
    "\n",
    "# Define the loss function and optimizer\n",
    "criterion = nn.CrossEntropyLoss()\n",
    "optimizer = torch.optim.Adam(llm.parameters())\n",
    "\n",
    "# Train the LLM\n",
    "train_llm(llm, data, optimizer, criterion, num_epochs, batch_size)\n"
   ]
  },
  {
   "cell_type": "code",
   "execution_count": null,
   "id": "7550c2bd",
   "metadata": {},
   "outputs": [],
   "source": [
    "# Set initial input for text generation\n",
    "initial_input = np.random.randint(0, vocab_size)\n",
    "\n",
    "# Generate text using the trained LLM\n",
    "generated_text = generate_text(llm, initial_input)\n",
    "\n",
    "# Convert token indices to actual words (assuming you have a reverse mapping)\n",
    "reverse_token_mapping = {index: word for word, index in tokenizer.get_vocab().items()}\n",
    "generated_words = [reverse_token_mapping[token] for token in generated_text]\n",
    "\n",
    "# Print the generated text\n",
    "print('Generated Text:')\n",
    "print(' '.join(generated_words))"
   ]
  }
 ],
 "metadata": {
  "kernelspec": {
   "display_name": "Python 3 (ipykernel)",
   "language": "python",
   "name": "python3"
  },
  "language_info": {
   "codemirror_mode": {
    "name": "ipython",
    "version": 3
   },
   "file_extension": ".py",
   "mimetype": "text/x-python",
   "name": "python",
   "nbconvert_exporter": "python",
   "pygments_lexer": "ipython3",
   "version": "3.11.4"
  }
 },
 "nbformat": 4,
 "nbformat_minor": 5
}
